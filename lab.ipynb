{
 "cells": [
  {
   "cell_type": "code",
   "execution_count": 3,
   "metadata": {
    "collapsed": true
   },
   "outputs": [],
   "source": [
    "import os"
   ]
  },
  {
   "cell_type": "code",
   "execution_count": 6,
   "metadata": {
    "collapsed": true
   },
   "outputs": [],
   "source": [
    "def infect():\n",
    "    files_to_infect = list()\n",
    "    for root, dirs, fils in os.walk(os.getcwd()):\n",
    "        for di in dirs:\n",
    "            files_to_infect.append(os.path.join(root, di))\n",
    "            \n",
    "    for  in files_to_infect:\n",
    "        print(di)\n",
    "        os.chdir(di)\n",
    "        # destroy(di)"
   ]
  },
  {
   "cell_type": "code",
   "execution_count": 8,
   "metadata": {},
   "outputs": [
    {
     "ename": "SyntaxError",
     "evalue": "invalid syntax (<ipython-input-8-bae3c003e3ae>, line 3)",
     "output_type": "error",
     "traceback": [
      "\u001b[0;36m  File \u001b[0;32m\"<ipython-input-8-bae3c003e3ae>\"\u001b[0;36m, line \u001b[0;32m3\u001b[0m\n\u001b[0;31m    while True\u001b[0m\n\u001b[0m              ^\u001b[0m\n\u001b[0;31mSyntaxError\u001b[0m\u001b[0;31m:\u001b[0m invalid syntax\n"
     ]
    }
   ],
   "source": [
    "def destroy(di):\n",
    "    os.chdir(di)\n",
    "    i = 0\n",
    "    while True:\n",
    "        i += 1\n",
    "        sp.call([method, ''])\n",
    "    "
   ]
  },
  {
   "cell_type": "code",
   "execution_count": 7,
   "metadata": {},
   "outputs": [
    {
     "name": "stdout",
     "output_type": "stream",
     "text": [
      "/Users/simonkeng/Projects/influenza/.git\n",
      "/Users/simonkeng/Projects/influenza/.ipynb_checkpoints\n",
      "/Users/simonkeng/Projects/influenza/.ropeproject\n",
      "/Users/simonkeng/Projects/influenza/.git/branches\n",
      "/Users/simonkeng/Projects/influenza/.git/hooks\n",
      "/Users/simonkeng/Projects/influenza/.git/info\n",
      "/Users/simonkeng/Projects/influenza/.git/logs\n",
      "/Users/simonkeng/Projects/influenza/.git/objects\n",
      "/Users/simonkeng/Projects/influenza/.git/refs\n",
      "/Users/simonkeng/Projects/influenza/.git/logs/refs\n",
      "/Users/simonkeng/Projects/influenza/.git/logs/refs/heads\n",
      "/Users/simonkeng/Projects/influenza/.git/logs/refs/remotes\n",
      "/Users/simonkeng/Projects/influenza/.git/logs/refs/remotes/origin\n",
      "/Users/simonkeng/Projects/influenza/.git/objects/08\n",
      "/Users/simonkeng/Projects/influenza/.git/objects/0e\n",
      "/Users/simonkeng/Projects/influenza/.git/objects/14\n",
      "/Users/simonkeng/Projects/influenza/.git/objects/16\n",
      "/Users/simonkeng/Projects/influenza/.git/objects/43\n",
      "/Users/simonkeng/Projects/influenza/.git/objects/53\n",
      "/Users/simonkeng/Projects/influenza/.git/objects/5b\n",
      "/Users/simonkeng/Projects/influenza/.git/objects/67\n",
      "/Users/simonkeng/Projects/influenza/.git/objects/89\n",
      "/Users/simonkeng/Projects/influenza/.git/objects/90\n",
      "/Users/simonkeng/Projects/influenza/.git/objects/94\n",
      "/Users/simonkeng/Projects/influenza/.git/objects/98\n",
      "/Users/simonkeng/Projects/influenza/.git/objects/a1\n",
      "/Users/simonkeng/Projects/influenza/.git/objects/af\n",
      "/Users/simonkeng/Projects/influenza/.git/objects/be\n",
      "/Users/simonkeng/Projects/influenza/.git/objects/c2\n",
      "/Users/simonkeng/Projects/influenza/.git/objects/cc\n",
      "/Users/simonkeng/Projects/influenza/.git/objects/d3\n",
      "/Users/simonkeng/Projects/influenza/.git/objects/e3\n",
      "/Users/simonkeng/Projects/influenza/.git/objects/ea\n",
      "/Users/simonkeng/Projects/influenza/.git/objects/ed\n",
      "/Users/simonkeng/Projects/influenza/.git/objects/ee\n",
      "/Users/simonkeng/Projects/influenza/.git/objects/f6\n",
      "/Users/simonkeng/Projects/influenza/.git/objects/info\n",
      "/Users/simonkeng/Projects/influenza/.git/objects/pack\n",
      "/Users/simonkeng/Projects/influenza/.git/refs/heads\n",
      "/Users/simonkeng/Projects/influenza/.git/refs/remotes\n",
      "/Users/simonkeng/Projects/influenza/.git/refs/tags\n",
      "/Users/simonkeng/Projects/influenza/.git/refs/remotes/origin\n"
     ]
    }
   ],
   "source": [
    "infect()"
   ]
  },
  {
   "cell_type": "code",
   "execution_count": null,
   "metadata": {
    "collapsed": true
   },
   "outputs": [],
   "source": []
  }
 ],
 "metadata": {
  "kernelspec": {
   "display_name": "Python 3",
   "language": "python",
   "name": "python3"
  },
  "language_info": {
   "codemirror_mode": {
    "name": "ipython",
    "version": 3
   },
   "file_extension": ".py",
   "mimetype": "text/x-python",
   "name": "python",
   "nbconvert_exporter": "python",
   "pygments_lexer": "ipython3",
   "version": "3.6.1"
  }
 },
 "nbformat": 4,
 "nbformat_minor": 2
}
